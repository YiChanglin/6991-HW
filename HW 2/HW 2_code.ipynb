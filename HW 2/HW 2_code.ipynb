{
 "cells": [
  {
   "cell_type": "markdown",
   "id": "029694dd-a49d-47c6-886c-9c48c2b6e13d",
   "metadata": {},
   "source": [
    "# Changlin Yi-cy2578\n",
    "# FRE-6991 HW1"
   ]
  },
  {
   "cell_type": "markdown",
   "id": "8e8f85f5-7af3-49fe-afe4-8efc2620eeaa",
   "metadata": {},
   "source": [
    "### 1. Setup and Imports"
   ]
  },
  {
   "cell_type": "code",
   "execution_count": 3,
   "id": "cebd81bc-84d3-4469-b612-62622cc9ece2",
   "metadata": {},
   "outputs": [],
   "source": [
    "import pandas as pd\n",
    "import numpy as np\n",
    "import yfinance as yf\n",
    "import statsmodels.api as sm\n",
    "import datetime as dt"
   ]
  },
  {
   "cell_type": "markdown",
   "id": "5e7a86c7-5695-47f5-8df1-ffc2c1a0e2f5",
   "metadata": {},
   "source": [
    "### 2. Define Date Ranges"
   ]
  },
  {
   "cell_type": "code",
   "execution_count": 5,
   "id": "dca350f3-e76c-4b82-b622-19bae371029e",
   "metadata": {},
   "outputs": [],
   "source": [
    "# Daily range\n",
    "daily_start = dt.datetime(2024, 3, 31)\n",
    "daily_end   = dt.datetime(2025, 3, 31)\n",
    "\n",
    "# Weekly range\n",
    "weekly_start = dt.datetime(2019, 3, 31)\n",
    "weekly_end   = dt.datetime(2025, 3, 31)\n",
    "\n",
    "# Monthly range\n",
    "monthly_start = dt.datetime(2018, 3, 31)\n",
    "monthly_end   = dt.datetime(2025, 3, 31)"
   ]
  },
  {
   "cell_type": "markdown",
   "id": "735806e7-ac9d-43b4-ab6f-53f20634f63a",
   "metadata": {},
   "source": [
    "### 3. Function to Download Data and Calculate Returns"
   ]
  },
  {
   "cell_type": "code",
   "execution_count": 7,
   "id": "a87b52d6-82a7-4628-a31f-f20751efbf37",
   "metadata": {},
   "outputs": [],
   "source": [
    "def get_returns(ticker, start_date, end_date, freq='D'):\n",
    "    \n",
    "    # Download data\n",
    "    data = yf.download([ticker, 'SPY'], start=start_date, end=end_date, progress=False)['Close']\n",
    "    \n",
    "    # In case data is a Series (if single ticker), make sure it is a DataFrame\n",
    "    if isinstance(data, pd.Series):\n",
    "        data = data.to_frame()\n",
    "    \n",
    "    # Rename columns if needed\n",
    "    data.columns = [f\"{col}\" for col in data.columns]\n",
    "    \n",
    "    # Resample\n",
    "    if freq == 'D':\n",
    "        # Already daily by default, so just forward-fill if missing\n",
    "        data = data.asfreq('B').fillna(method='ffill')  # 'B' = business day\n",
    "    elif freq == 'W':\n",
    "        data = data.resample('W-FRI').last()  # For weekly, take last price of the week (Friday)\n",
    "    elif freq == 'M':\n",
    "        data = data.resample('M').last()      # For monthly, take last price of the month\n",
    "    \n",
    "    # Calculate returns\n",
    "    df = data.pct_change().dropna()\n",
    "    df.columns = ['Stock', 'SPY'] if len(df.columns) == 2 else df.columns\n",
    "    \n",
    "    # Rename columns to reflect returns\n",
    "    df.rename(columns={df.columns[0]: 'Stock_Return', \n",
    "                       df.columns[1]: 'SPY_Return'}, inplace=True)\n",
    "    \n",
    "    return df\n"
   ]
  },
  {
   "cell_type": "markdown",
   "id": "b27f8e0b-8282-4264-9b21-9c1558d00c94",
   "metadata": {},
   "source": [
    "### 4. Function to Regress Stock Returns on SPY Returns"
   ]
  },
  {
   "cell_type": "code",
   "execution_count": 9,
   "id": "69e345da-da8a-4d5e-a4a1-4244c46d70d6",
   "metadata": {},
   "outputs": [],
   "source": [
    "def regress_stock_on_spy(df_returns):\n",
    "    \"\"\"\n",
    "    Performs a linear regression of Stock_Return on SPY_Return.\n",
    "    Returns alpha, beta, and R-squared.\n",
    "    \"\"\"\n",
    "    X = df_returns[['SPY_Return']]  # Independent variable\n",
    "    y = df_returns['Stock_Return']  # Dependent variable\n",
    "    \n",
    "    # Add a constant term to the regression\n",
    "    X = sm.add_constant(X)\n",
    "    \n",
    "    # Fit the regression model\n",
    "    model = sm.OLS(y, X).fit()\n",
    "    \n",
    "    alpha = model.params['const']\n",
    "    beta = model.params['SPY_Return']\n",
    "    r_squared = model.rsquared\n",
    "    \n",
    "    return alpha, beta, r_squared, model"
   ]
  },
  {
   "cell_type": "markdown",
   "id": "103e2b5b-552a-4a82-bc0c-b7e4bce1ece2",
   "metadata": {},
   "source": [
    "### 5. Output Data for Apple"
   ]
  },
  {
   "cell_type": "code",
   "execution_count": 11,
   "id": "4ea7ea16-e08c-48c0-85ae-725b27dc10df",
   "metadata": {},
   "outputs": [
    {
     "name": "stdout",
     "output_type": "stream",
     "text": [
      "YF.download() has changed argument auto_adjust default to True\n"
     ]
    },
    {
     "name": "stderr",
     "output_type": "stream",
     "text": [
      "/var/folders/9n/q6k7950n7xg1s3hmhsgf07fh0000gn/T/ipykernel_11861/2537916345.py:36: FutureWarning: DataFrame.fillna with 'method' is deprecated and will raise in a future version. Use obj.ffill() or obj.bfill() instead.\n",
      "  data = data.asfreq('B').fillna(method='ffill')  # 'B' = business day\n"
     ]
    },
    {
     "name": "stdout",
     "output_type": "stream",
     "text": [
      "AAPL Daily Regression (3/31/2024 - 3/31/2025)\n",
      "Alpha: 0.000777\n",
      "Beta:  0.965103\n",
      "R^2:   0.297749\n",
      "AAPL Weekly Regression (3/31/2019 - 3/31/2025)\n",
      "Alpha: 0.002702\n",
      "Beta:  1.085479\n",
      "R^2:   0.526366\n",
      "AAPL Monthly Regression (3/31/2018 - 3/31/2025)\n",
      "Alpha: 0.010212\n",
      "Beta:  1.238905\n",
      "R^2:   0.514004\n"
     ]
    },
    {
     "name": "stderr",
     "output_type": "stream",
     "text": [
      "/var/folders/9n/q6k7950n7xg1s3hmhsgf07fh0000gn/T/ipykernel_11861/2537916345.py:40: FutureWarning: 'M' is deprecated and will be removed in a future version, please use 'ME' instead.\n",
      "  data = data.resample('M').last()      # For monthly, take last price of the month\n"
     ]
    }
   ],
   "source": [
    "# AAPL Daily\n",
    "aapl_daily = get_returns('AAPL', daily_start, daily_end, freq='D')\n",
    "alpha_d, beta_d, r2_d, model_d = regress_stock_on_spy(aapl_daily)\n",
    "\n",
    "print(\"AAPL Daily Regression (3/31/2024 - 3/31/2025)\")\n",
    "print(f\"Alpha: {alpha_d:.6f}\")\n",
    "print(f\"Beta:  {beta_d:.6f}\")\n",
    "print(f\"R^2:   {r2_d:.6f}\")\n",
    "\n",
    "# AAPL Weekly\n",
    "aapl_weekly = get_returns('AAPL', weekly_start, weekly_end, freq='W')\n",
    "alpha_w, beta_w, r2_w, model_w = regress_stock_on_spy(aapl_weekly)\n",
    "\n",
    "print(\"AAPL Weekly Regression (3/31/2019 - 3/31/2025)\")\n",
    "print(f\"Alpha: {alpha_w:.6f}\")\n",
    "print(f\"Beta:  {beta_w:.6f}\")\n",
    "print(f\"R^2:   {r2_w:.6f}\")\n",
    "\n",
    "# AAPL Monthly\n",
    "aapl_monthly = get_returns('AAPL', monthly_start, monthly_end, freq='M')\n",
    "alpha_m, beta_m, r2_m, model_m = regress_stock_on_spy(aapl_monthly)\n",
    "\n",
    "print(\"AAPL Monthly Regression (3/31/2018 - 3/31/2025)\")\n",
    "print(f\"Alpha: {alpha_m:.6f}\")\n",
    "print(f\"Beta:  {beta_m:.6f}\")\n",
    "print(f\"R^2:   {r2_m:.6f}\")"
   ]
  },
  {
   "cell_type": "markdown",
   "id": "72bf89de-1d93-42c5-a9d0-1445539d0009",
   "metadata": {},
   "source": [
    "### 6. Output Data for PFE"
   ]
  },
  {
   "cell_type": "code",
   "execution_count": 13,
   "id": "0224b15c-cdbe-4ce8-8981-bf4d308cce00",
   "metadata": {},
   "outputs": [
    {
     "name": "stderr",
     "output_type": "stream",
     "text": [
      "/var/folders/9n/q6k7950n7xg1s3hmhsgf07fh0000gn/T/ipykernel_11861/2537916345.py:36: FutureWarning: DataFrame.fillna with 'method' is deprecated and will raise in a future version. Use obj.ffill() or obj.bfill() instead.\n",
      "  data = data.asfreq('B').fillna(method='ffill')  # 'B' = business day\n"
     ]
    },
    {
     "name": "stdout",
     "output_type": "stream",
     "text": [
      "PFE Daily Regression (3/31/2024 - 3/31/2025)\n",
      "Alpha: -0.000102\n",
      "Beta:  0.207161\n",
      "R^2:   0.016229\n",
      "PFE Weekly Regression (3/31/2019 - 3/31/2025)\n",
      "Alpha: -0.001597\n",
      "Beta:  0.540766\n",
      "R^2:   0.165488\n",
      "PFE Monthly Regression (3/31/2018 - 3/31/2025)\n",
      "Alpha: -0.004636\n",
      "Beta:  0.595104\n",
      "R^2:   0.162786\n"
     ]
    },
    {
     "name": "stderr",
     "output_type": "stream",
     "text": [
      "/var/folders/9n/q6k7950n7xg1s3hmhsgf07fh0000gn/T/ipykernel_11861/2537916345.py:40: FutureWarning: 'M' is deprecated and will be removed in a future version, please use 'ME' instead.\n",
      "  data = data.resample('M').last()      # For monthly, take last price of the month\n"
     ]
    }
   ],
   "source": [
    "# PFE Daily\n",
    "pfe_daily = get_returns('PFE', daily_start, daily_end, freq='D')\n",
    "alpha_pd, beta_pd, r2_pd, model_pd = regress_stock_on_spy(pfe_daily)\n",
    "\n",
    "print(\"PFE Daily Regression (3/31/2024 - 3/31/2025)\")\n",
    "print(f\"Alpha: {alpha_pd:.6f}\")\n",
    "print(f\"Beta:  {beta_pd:.6f}\")\n",
    "print(f\"R^2:   {r2_pd:.6f}\")\n",
    "\n",
    "# PFE Weekly\n",
    "pfe_weekly = get_returns('PFE', weekly_start, weekly_end, freq='W')\n",
    "alpha_pw, beta_pw, r2_pw, model_pw = regress_stock_on_spy(pfe_weekly)\n",
    "\n",
    "print(\"PFE Weekly Regression (3/31/2019 - 3/31/2025)\")\n",
    "print(f\"Alpha: {alpha_pw:.6f}\")\n",
    "print(f\"Beta:  {beta_pw:.6f}\")\n",
    "print(f\"R^2:   {r2_pw:.6f}\")\n",
    "\n",
    "# PFE Monthly\n",
    "pfe_monthly = get_returns('PFE', monthly_start, monthly_end, freq='M')\n",
    "alpha_pm, beta_pm, r2_pm, model_pm = regress_stock_on_spy(pfe_monthly)\n",
    "\n",
    "print(\"PFE Monthly Regression (3/31/2018 - 3/31/2025)\")\n",
    "print(f\"Alpha: {alpha_pm:.6f}\")\n",
    "print(f\"Beta:  {beta_pm:.6f}\")\n",
    "print(f\"R^2:   {r2_pm:.6f}\")"
   ]
  },
  {
   "cell_type": "markdown",
   "id": "5dc0c6d4-a8f6-4ffb-a1ff-019f628af06d",
   "metadata": {},
   "source": [
    "### 7. Output Data for TSLA"
   ]
  },
  {
   "cell_type": "code",
   "execution_count": 15,
   "id": "ce65f27c-28e6-4663-b3a5-30d23df1ca9f",
   "metadata": {},
   "outputs": [
    {
     "name": "stderr",
     "output_type": "stream",
     "text": [
      "/var/folders/9n/q6k7950n7xg1s3hmhsgf07fh0000gn/T/ipykernel_11861/2537916345.py:36: FutureWarning: DataFrame.fillna with 'method' is deprecated and will raise in a future version. Use obj.ffill() or obj.bfill() instead.\n",
      "  data = data.asfreq('B').fillna(method='ffill')  # 'B' = business day\n"
     ]
    },
    {
     "name": "stdout",
     "output_type": "stream",
     "text": [
      "TSLA Daily Regression (3/31/2024 - 3/31/2025)\n",
      "Alpha: 0.000045\n",
      "Beta:  0.113756\n",
      "R^2:   0.318853\n",
      "TSLA Weekly Regression (3/31/2019 - 3/31/2025)\n",
      "Alpha: 0.000716\n",
      "Beta:  0.159514\n",
      "R^2:   0.318101\n",
      "TSLA Monthly Regression (3/31/2018 - 3/31/2025)\n",
      "Alpha: 0.005775\n",
      "Beta:  0.114315\n",
      "R^2:   0.225451\n"
     ]
    },
    {
     "name": "stderr",
     "output_type": "stream",
     "text": [
      "/var/folders/9n/q6k7950n7xg1s3hmhsgf07fh0000gn/T/ipykernel_11861/2537916345.py:40: FutureWarning: 'M' is deprecated and will be removed in a future version, please use 'ME' instead.\n",
      "  data = data.resample('M').last()      # For monthly, take last price of the month\n"
     ]
    }
   ],
   "source": [
    "# TSLA Daily\n",
    "tsla_daily = get_returns('TSLA', daily_start, daily_end, freq='D')\n",
    "alpha_td, beta_td, r2_td, model_td = regress_stock_on_spy(tsla_daily)\n",
    "\n",
    "print(\"TSLA Daily Regression (3/31/2024 - 3/31/2025)\")\n",
    "print(f\"Alpha: {alpha_td:.6f}\")\n",
    "print(f\"Beta:  {beta_td:.6f}\")\n",
    "print(f\"R^2:   {r2_td:.6f}\")\n",
    "\n",
    "# TSLA Weekly\n",
    "tsla_weekly = get_returns('TSLA', weekly_start, weekly_end, freq='W')\n",
    "alpha_tw, beta_tw, r2_tw, model_tw = regress_stock_on_spy(tsla_weekly)\n",
    "\n",
    "print(\"TSLA Weekly Regression (3/31/2019 - 3/31/2025)\")\n",
    "print(f\"Alpha: {alpha_tw:.6f}\")\n",
    "print(f\"Beta:  {beta_tw:.6f}\")\n",
    "print(f\"R^2:   {r2_tw:.6f}\")\n",
    "\n",
    "# TSLA Monthly\n",
    "tsla_monthly = get_returns('TSLA', monthly_start, monthly_end, freq='M')\n",
    "alpha_tm, beta_tm, r2_tm, model_tm = regress_stock_on_spy(tsla_monthly)\n",
    "\n",
    "print(\"TSLA Monthly Regression (3/31/2018 - 3/31/2025)\")\n",
    "print(f\"Alpha: {alpha_tm:.6f}\")\n",
    "print(f\"Beta:  {beta_tm:.6f}\")\n",
    "print(f\"R^2:   {r2_tm:.6f}\")"
   ]
  },
  {
   "cell_type": "code",
   "execution_count": null,
   "id": "8abc67c1-aba5-4dcc-8e66-2c4ab1fe14ac",
   "metadata": {},
   "outputs": [],
   "source": []
  }
 ],
 "metadata": {
  "kernelspec": {
   "display_name": "Python 3 (ipykernel)",
   "language": "python",
   "name": "python3"
  },
  "language_info": {
   "codemirror_mode": {
    "name": "ipython",
    "version": 3
   },
   "file_extension": ".py",
   "mimetype": "text/x-python",
   "name": "python",
   "nbconvert_exporter": "python",
   "pygments_lexer": "ipython3",
   "version": "3.12.4"
  }
 },
 "nbformat": 4,
 "nbformat_minor": 5
}
