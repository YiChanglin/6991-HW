{
 "cells": [
  {
   "cell_type": "markdown",
   "id": "3381645b-30ab-4070-9e60-c005f27da8bd",
   "metadata": {},
   "source": [
    "# Portfolio Optimization\n",
    "## Changlin Yi\n",
    "## cy2578@nyu.edu\n",
    "\n",
    "Consider the daily closing prices of the following companies from January 1, 2024 until December 31, 2024:\n",
    "\n",
    "- Microsoft (MSFT)  \n",
    "- JPMorgan (JPM)"
   ]
  },
  {
   "cell_type": "markdown",
   "id": "4bce6659-32bc-454b-8e83-476f6e98a721",
   "metadata": {},
   "source": [
    "## A. Determine the average daily return and daily volatility of these two stocks.\n"
   ]
  },
  {
   "cell_type": "code",
   "execution_count": 3,
   "id": "7259fc5d-d110-441c-887e-d23ac8283ad3",
   "metadata": {},
   "outputs": [
    {
     "name": "stderr",
     "output_type": "stream",
     "text": [
      "[                       0%                       ]"
     ]
    },
    {
     "name": "stdout",
     "output_type": "stream",
     "text": [
      "YF.download() has changed argument auto_adjust default to True\n"
     ]
    },
    {
     "name": "stderr",
     "output_type": "stream",
     "text": [
      "[*********************100%***********************]  2 of 2 completed"
     ]
    },
    {
     "name": "stdout",
     "output_type": "stream",
     "text": [
      "avg daily return Ticker\n",
      "JPM     0.001523\n",
      "MSFT    0.000653\n",
      "dtype: float64\n",
      "daily_volatility Ticker\n",
      "JPM     0.014845\n",
      "MSFT    0.012581\n",
      "dtype: float64\n"
     ]
    },
    {
     "name": "stderr",
     "output_type": "stream",
     "text": [
      "\n"
     ]
    }
   ],
   "source": [
    "import yfinance as yf\n",
    "import numpy as np\n",
    "import pandas as pd\n",
    "\n",
    "tickers = [\"MSFT\", \"JPM\"]\n",
    "data = yf.download(tickers, start=\"2024-01-01\", end=\"2024-12-31\")[\"Close\"]\n",
    "returns = data.pct_change().dropna()\n",
    "\n",
    "# Compute metrics\n",
    "avg_daily_ret = returns.mean()\n",
    "daily_vol = returns.std()\n",
    "\n",
    "\n",
    "print(\"avg daily return\", avg_daily_ret)\n",
    "print(\"daily_volatility\",daily_vol)"
   ]
  },
  {
   "cell_type": "markdown",
   "id": "fa10d6ad-0ee0-4319-a4e0-730aa3ca9acf",
   "metadata": {},
   "source": [
    "## B. Annualize these numbers (252 trading days, rf = 0)."
   ]
  },
  {
   "cell_type": "code",
   "execution_count": 5,
   "id": "12011504-a4b7-4371-9cf9-390557ca6c82",
   "metadata": {},
   "outputs": [
    {
     "name": "stdout",
     "output_type": "stream",
     "text": [
      "annual return is Ticker\n",
      "JPM     0.383907\n",
      "MSFT    0.164483\n",
      "dtype: float64\n",
      "annual_vol is Ticker\n",
      "JPM     0.235658\n",
      "MSFT    0.199714\n",
      "dtype: float64\n"
     ]
    }
   ],
   "source": [
    "ann_return = 252 * avg_daily_ret\n",
    "ann_vol = np.sqrt(252) * daily_vol\n",
    "\n",
    "print(\"annual return is\", ann_return)\n",
    "print(\"annual_vol is\",ann_vol)"
   ]
  },
  {
   "cell_type": "markdown",
   "id": "1106b2a3-c8d1-4ed3-aa68-dabc2118c4e7",
   "metadata": {},
   "source": [
    "## C. Construct a long‐only portfolio that maximizes the Sharpe Ratio (rf = 0)."
   ]
  },
  {
   "cell_type": "code",
   "execution_count": 7,
   "id": "08456a53-198b-4816-8648-1dd0e4daa809",
   "metadata": {},
   "outputs": [
    {
     "name": "stdout",
     "output_type": "stream",
     "text": [
      "MSFT: 0.6927027754999318\n",
      "JPM: 0.30729722450006824\n"
     ]
    }
   ],
   "source": [
    "import scipy.optimize as sco\n",
    "\n",
    "mu = ann_return.values\n",
    "cov = returns.cov().values * 252\n",
    "\n",
    "def neg_sharpe(w):\n",
    "    ret = w.dot(mu)\n",
    "    vol = np.sqrt(w.dot(cov).dot(w))\n",
    "    return -ret/vol\n",
    "\n",
    "cons = ({'type':'eq','fun': lambda w: np.sum(w)-1})\n",
    "bnds = tuple((0,1) for _ in tickers)\n",
    "init = np.array([1/2,1/2])\n",
    "\n",
    "opt = sco.minimize(neg_sharpe, init, bounds=bnds, constraints=cons)\n",
    "w_opt = opt.x\n",
    "\n",
    "for ticker, weight in zip(tickers, w_opt):\n",
    "    print(f\"{ticker}: {weight}\")"
   ]
  },
  {
   "cell_type": "markdown",
   "id": "ad7cb896-8240-4bf1-b1da-160dd2460922",
   "metadata": {},
   "source": [
    "## D. What are the Risk, Return, and Sharpe Ratio of this portfolio?"
   ]
  },
  {
   "cell_type": "code",
   "execution_count": 9,
   "id": "aaeef4af-2555-4dd6-b28b-267ae20f8b3b",
   "metadata": {},
   "outputs": [
    {
     "name": "stdout",
     "output_type": "stream",
     "text": [
      "annual return: 0.316478414717738\n",
      "annual risk: 0.18341165007992843\n",
      "Sharpe Ratio: 1.7255087917251757\n"
     ]
    }
   ],
   "source": [
    "port_ret = w_opt.dot(mu)\n",
    "port_vol = np.sqrt(w_opt.dot(cov).dot(w_opt))\n",
    "port_sharpe = port_ret/port_vol\n",
    "\n",
    "print(\"annual return:\", port_ret)\n",
    "print(\"annual risk:\", port_vol)\n",
    "print(\"Sharpe Ratio:\", port_sharpe)"
   ]
  },
  {
   "cell_type": "markdown",
   "id": "60eb3670-665c-42eb-aa9a-471c1e2ba16d",
   "metadata": {},
   "source": [
    "## E. For an investor tolerating up to 18% annual vol, build the max‐return portfolio with vol ≤ 18%."
   ]
  },
  {
   "cell_type": "code",
   "execution_count": 11,
   "id": "dd678e3d-79af-4109-b408-be2dbbd8d779",
   "metadata": {},
   "outputs": [
    {
     "name": "stdout",
     "output_type": "stream",
     "text": [
      "MSFT: 0.6647406727014394\n",
      "JPM: 0.3352593272985605\n"
     ]
    }
   ],
   "source": [
    "def neg_return(w):\n",
    "    return -w.dot(mu)\n",
    "\n",
    "cons2 = (\n",
    "    {'type':'eq','fun': lambda w: np.sum(w)-1},\n",
    "    {'type':'ineq','fun': lambda w: 0.18 - np.sqrt(w.dot(cov).dot(w))}\n",
    ")\n",
    "opt2 = sco.minimize(neg_return, init, bounds=bnds, constraints=cons2)\n",
    "w_18 = opt2.x\n",
    "\n",
    "for ticker, weight in zip(tickers, w_18):\n",
    "    print(f\"{ticker}: {weight}\")"
   ]
  },
  {
   "cell_type": "markdown",
   "id": "c892e7f9-3690-4a1d-995b-dcfcdd5bf92b",
   "metadata": {},
   "source": [
    "## F. What are the Risk, Return, and Sharpe Ratio of this new portfolio?"
   ]
  },
  {
   "cell_type": "code",
   "execution_count": 13,
   "id": "4a4f6ce5-ef0c-4183-a6ae-9837295cf724",
   "metadata": {},
   "outputs": [
    {
     "name": "stdout",
     "output_type": "stream",
     "text": [
      "annual return: 0.310342856515781\n",
      "annual risk: 0.18000000067954036\n",
      "Sharpe Ratio: 1.7241269741342617\n"
     ]
    }
   ],
   "source": [
    "ret2 = w_18.dot(mu)\n",
    "vol2 = np.sqrt(w_18.dot(cov).dot(w_18))\n",
    "sr2  = ret2/vol2\n",
    "\n",
    "print(\"annual return:\", ret2)\n",
    "print(\"annual risk:\", vol2)\n",
    "print(\"Sharpe Ratio:\", sr2)"
   ]
  },
  {
   "cell_type": "markdown",
   "id": "9bf768d1-365e-4129-9d5e-b27d8857363d",
   "metadata": {},
   "source": [
    "## G. How would portfolios in parts (c) and (e) have performed from January 1, 2025 to April 1, 2025?"
   ]
  },
  {
   "cell_type": "code",
   "execution_count": 15,
   "id": "a03cba7c-c391-4d8f-bc21-785beb412602",
   "metadata": {},
   "outputs": [
    {
     "name": "stderr",
     "output_type": "stream",
     "text": [
      "[*********************100%***********************]  2 of 2 completed\n"
     ]
    }
   ],
   "source": [
    "# download out‐of‐sample\n",
    "oos = yf.download(tickers, start=\"2025-01-01\", end=\"2025-04-01\")[\"Close\"]\n",
    "oos_ret = oos.pct_change().dropna()\n",
    "\n",
    "# compute realized performance\n",
    "def perf(weights):\n",
    "    port = oos_ret.dot(weights)\n",
    "    ann_ret = np.mean(port) * 252\n",
    "    ann_vol = np.std(port) * np.sqrt(252)\n",
    "    return ann_ret, ann_vol, ann_ret/ann_vol\n",
    "\n",
    "perf_c = perf(w_opt)\n",
    "perf_e = perf(w_18)"
   ]
  },
  {
   "cell_type": "code",
   "execution_count": 16,
   "id": "ba642e3d-5325-42e9-a543-df44beca7ff6",
   "metadata": {},
   "outputs": [
    {
     "name": "stdout",
     "output_type": "stream",
     "text": [
      "Optimal Weights Portfolio Performance:\n",
      "Annualized Return: -0.03%\n",
      "Annualized Volatility: 0.21%\n",
      "Annualized Sharpe Ratio: -0.14\n",
      "\n",
      "\n",
      "Constrained 18%——vola Portfolio Performance:\n",
      "Annualized Return: -0.04%\n",
      "Annualized Volatility: 0.21%\n",
      "Annualized Sharpe Ratio: -0.21\n"
     ]
    }
   ],
   "source": [
    "# Calculate and print the performance of the optimal weights portfolio\n",
    "perf_c = perf(w_opt)\n",
    "print(\"Optimal Weights Portfolio Performance:\")\n",
    "print(f\"Annualized Return: {perf_c[0]:.2f}%\")\n",
    "print(f\"Annualized Volatility: {perf_c[1]:.2f}%\")\n",
    "print(f\"Annualized Sharpe Ratio: {perf_c[2]:.2f}\")\n",
    "print(\"\\n\")\n",
    "\n",
    "# Calculate and print the performance of the volatility-constrained portfolio\n",
    "perf_e = perf(w_18)\n",
    "print(\"Constrained 18%——vola Portfolio Performance:\")\n",
    "print(f\"Annualized Return: {perf_e[0]:.2f}%\")\n",
    "print(f\"Annualized Volatility: {perf_e[1]:.2f}%\")\n",
    "print(f\"Annualized Sharpe Ratio: {perf_e[2]:.2f}\")"
   ]
  },
  {
   "cell_type": "code",
   "execution_count": null,
   "id": "e784a8d7-8d6d-461a-af11-ebc2fda288bf",
   "metadata": {},
   "outputs": [],
   "source": []
  }
 ],
 "metadata": {
  "kernelspec": {
   "display_name": "Python 3 (ipykernel)",
   "language": "python",
   "name": "python3"
  },
  "language_info": {
   "codemirror_mode": {
    "name": "ipython",
    "version": 3
   },
   "file_extension": ".py",
   "mimetype": "text/x-python",
   "name": "python",
   "nbconvert_exporter": "python",
   "pygments_lexer": "ipython3",
   "version": "3.12.4"
  }
 },
 "nbformat": 4,
 "nbformat_minor": 5
}
